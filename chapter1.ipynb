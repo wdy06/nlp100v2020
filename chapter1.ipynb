{
 "cells": [
  {
   "cell_type": "code",
   "execution_count": 1,
   "id": "6cb9b882",
   "metadata": {},
   "outputs": [],
   "source": [
    "%load_ext autoreload\n",
    "%autoreload 2\n",
    "\n",
    "# from IPython.core.interactiveshell import InteractiveShell\n",
    "# InteractiveShell.ast_node_interactivity='all'"
   ]
  },
  {
   "cell_type": "markdown",
   "id": "058314a7",
   "metadata": {},
   "source": [
    "# 第1章: 準備運動"
   ]
  },
  {
   "cell_type": "markdown",
   "id": "60282a5b",
   "metadata": {},
   "source": [
    "## 00. 文字列の逆順\n",
    "文字列”stressed”の文字を逆に（末尾から先頭に向かって）並べた文字列を得よ"
   ]
  },
  {
   "cell_type": "code",
   "execution_count": 2,
   "id": "4e72931b",
   "metadata": {},
   "outputs": [
    {
     "data": {
      "text/plain": [
       "'desserts'"
      ]
     },
     "execution_count": 2,
     "metadata": {},
     "output_type": "execute_result"
    }
   ],
   "source": [
    "\"stressed\"[::-1]"
   ]
  },
  {
   "cell_type": "markdown",
   "id": "bd686884",
   "metadata": {},
   "source": [
    "## 01. 「パタトクカシーー」\n",
    "「パタトクカシーー」という文字列の1,3,5,7文字目を取り出して連結した文字列を得よ．"
   ]
  },
  {
   "cell_type": "code",
   "execution_count": 3,
   "id": "15d8a356",
   "metadata": {},
   "outputs": [
    {
     "data": {
      "text/plain": [
       "'パトカー'"
      ]
     },
     "execution_count": 3,
     "metadata": {},
     "output_type": "execute_result"
    }
   ],
   "source": [
    "word = \"パタトクカシーー\"\n",
    "word[0] + word[2] + word[4] + word[6]"
   ]
  },
  {
   "cell_type": "markdown",
   "id": "3386e2bb",
   "metadata": {},
   "source": [
    "## 02. 「パトカー」＋「タクシー」＝「パタトクカシーー」\n",
    "「パトカー」＋「タクシー」の文字を先頭から交互に連結して文字列「パタトクカシーー」を得よ．"
   ]
  },
  {
   "cell_type": "code",
   "execution_count": 4,
   "id": "60bc0058",
   "metadata": {},
   "outputs": [
    {
     "name": "stdout",
     "output_type": "stream",
     "text": [
      "パタトクカシーー\n"
     ]
    }
   ],
   "source": [
    "word = \"\"\n",
    "for s1, s2 in zip(\"パトカー\", \"タクシー\"):\n",
    "    word += s1 + s2\n",
    "print(word)"
   ]
  },
  {
   "cell_type": "markdown",
   "id": "98cba8d6",
   "metadata": {},
   "source": [
    "## 03. 円周率\n",
    "“Now I need a drink, alcoholic of course, after the heavy lectures involving quantum mechanics.”という文を単語に分解し，各単語の（アルファベットの）文字数を先頭から出現順に並べたリストを作成せよ．"
   ]
  },
  {
   "cell_type": "code",
   "execution_count": 5,
   "id": "e8a22cd5",
   "metadata": {},
   "outputs": [
    {
     "data": {
      "text/plain": [
       "[3, 1, 4, 1, 5, 9, 2, 6, 5, 3, 5, 8, 9, 7, 9]"
      ]
     },
     "execution_count": 5,
     "metadata": {},
     "output_type": "execute_result"
    }
   ],
   "source": [
    "sentence = \"Now I need a drink, alcoholic of course, after the heavy lectures involving quantum mechanics.\"\n",
    "sentence = sentence.replace(\",\", \"\").replace(\".\", \"\")\n",
    "[len(word) for word in sentence.split(\" \")]"
   ]
  },
  {
   "cell_type": "markdown",
   "id": "9481181c",
   "metadata": {},
   "source": [
    "## 04. 元素記号\n",
    "“Hi He Lied Because Boron Could Not Oxidize Fluorine. New Nations Might Also Sign Peace Security Clause. Arthur King Can.”という文を単語に分解し，1, 5, 6, 7, 8, 9, 15, 16, 19番目の単語は先頭の1文字，それ以外の単語は先頭の2文字を取り出し，取り出した文字列から単語の位置（先頭から何番目の単語か）への連想配列（辞書型もしくはマップ型）を作成せよ．"
   ]
  },
  {
   "cell_type": "code",
   "execution_count": 6,
   "id": "2ceeffc8",
   "metadata": {},
   "outputs": [
    {
     "name": "stdout",
     "output_type": "stream",
     "text": [
      "['Hi', 'He', 'Lied', 'Because', 'Boron', 'Could', 'Not', 'Oxidize', 'Fluorine', 'New', 'Nations', 'Might', 'Also', 'Sign', 'Peace', 'Security', 'Clause', 'Arthur', 'King', 'Can']\n",
      "{'H': 0, 'He': 1, 'Li': 2, 'Be': 3, 'B': 4, 'C': 5, 'N': 6, 'O': 7, 'F': 8, 'Ne': 9, 'Na': 10, 'Mi': 11, 'Al': 12, 'Si': 13, 'P': 14, 'S': 15, 'Cl': 16, 'Ar': 17, 'K': 18, 'Ca': 19}\n"
     ]
    }
   ],
   "source": [
    "sentence = \"Hi He Lied Because Boron Could Not Oxidize Fluorine. New Nations Might Also Sign Peace Security Clause. Arthur King Can.\"\n",
    "sentence = sentence.replace(\",\", \"\").replace(\".\", \"\")\n",
    "words = sentence.split(\" \")\n",
    "print(words)\n",
    "word_map = {}\n",
    "for i, word in enumerate(words):\n",
    "    if i in [0, 4, 5, 6, 7, 8, 14, 15, 18]:\n",
    "        char = word[0]\n",
    "    else:\n",
    "        char = word[:2]\n",
    "    word_map[char] = i\n",
    "print(word_map)"
   ]
  },
  {
   "cell_type": "markdown",
   "id": "1ffe1d78",
   "metadata": {},
   "source": [
    "## 05. n-gram\n",
    "与えられたシーケンス（文字列やリストなど）からn-gramを作る関数を作成せよ．この関数を用い，”I am an NLPer”という文から単語bi-gram，文字bi-gramを得よ．"
   ]
  },
  {
   "cell_type": "code",
   "execution_count": 7,
   "id": "0fe8a490",
   "metadata": {},
   "outputs": [
    {
     "name": "stdout",
     "output_type": "stream",
     "text": [
      "[('I', 'am'), ('am', 'an'), ('an', 'NLPer')]\n",
      "[('N', 'L'), ('L', 'P'), ('P', 'e'), ('e', 'r')]\n",
      "[('I', ' '), (' ', 'a'), ('a', 'm'), ('m', ' '), (' ', 'a'), ('a', 'n'), ('n', ' '), (' ', 'N'), ('N', 'L'), ('L', 'P'), ('P', 'e'), ('e', 'r')]\n"
     ]
    }
   ],
   "source": [
    "sentence = \"I am an NLPer\"\n",
    "\n",
    "\n",
    "def n_gram_word(sentence, n):\n",
    "    word_list = sentence.replace(\",\", \"\").replace(\".\", \"\").split(\" \")\n",
    "    gram_list = []\n",
    "    for i in range(len(word_list)):\n",
    "        if i + n > len(word_list):\n",
    "            break\n",
    "        gram_list.append(tuple(word_list[i : i + n]))\n",
    "    return gram_list\n",
    "\n",
    "\n",
    "def n_gram_char_word(word, n):\n",
    "    gram_list = []\n",
    "    if n > len(word):\n",
    "        return [(word)]\n",
    "    for i in range(len(word)):\n",
    "        if i + n > len(word):\n",
    "            break\n",
    "        gram_list.append(tuple(word[i : i + n]))\n",
    "    return gram_list\n",
    "\n",
    "\n",
    "# def n_gram_char_sentence(sentence, n):\n",
    "#     word_list = sentence.replace(\",\", \"\").replace(\".\", \"\").split(\" \")\n",
    "#     gram_list = [n_gram_char_word(word, n) for word in word_list]\n",
    "#     return gram_list\n",
    "\n",
    "\n",
    "print(n_gram_word(sentence, n=2))\n",
    "print(n_gram_char_word(\"NLPer\", n=2))\n",
    "print(n_gram_char_word(sentence, n=2))"
   ]
  },
  {
   "cell_type": "markdown",
   "id": "ea9d0aef",
   "metadata": {},
   "source": [
    "## 06. 集合\n",
    "“paraparaparadise”と”paragraph”に含まれる文字bi-gramの集合を，それぞれ, XとYとして求め，XとYの和集合，積集合，差集合を求めよ．さらに，’se’というbi-gramがXおよびYに含まれるかどうかを調べよ．\n"
   ]
  },
  {
   "cell_type": "code",
   "execution_count": 8,
   "id": "b5e8575b",
   "metadata": {},
   "outputs": [
    {
     "name": "stdout",
     "output_type": "stream",
     "text": [
      "{('a', 'd'), ('s', 'e'), ('r', 'a'), ('i', 's'), ('a', 'p'), ('p', 'a'), ('a', 'r'), ('d', 'i')} {('g', 'r'), ('a', 'g'), ('r', 'a'), ('p', 'h'), ('p', 'a'), ('a', 'p'), ('a', 'r')}\n",
      "union:  {('g', 'r'), ('a', 'd'), ('s', 'e'), ('a', 'g'), ('r', 'a'), ('i', 's'), ('p', 'h'), ('a', 'p'), ('p', 'a'), ('a', 'r'), ('d', 'i')}\n",
      "difference A:  {('i', 's'), ('d', 'i'), ('a', 'd'), ('s', 'e')}\n",
      "difference B:  {('g', 'r'), ('p', 'h'), ('a', 'g')}\n",
      "intersection:  {('a', 'r'), ('r', 'a'), ('a', 'p'), ('p', 'a')}\n"
     ]
    }
   ],
   "source": [
    "bigram1 = set(n_gram_char_word(\"paraparaparadise\", 2))\n",
    "bigram2 = set(n_gram_char_word(\"paragraph\", 2))\n",
    "print(bigram1, bigram2)\n",
    "\n",
    "print(\"union: \", bigram1 | bigram2)\n",
    "print(\"difference A: \", bigram1 - bigram2)\n",
    "print(\"difference B: \", bigram2 - bigram1)\n",
    "print(\"intersection: \", bigram1 & bigram2)"
   ]
  },
  {
   "cell_type": "markdown",
   "id": "afaec3c4",
   "metadata": {},
   "source": [
    "## 07. テンプレートによる文生成\n",
    "引数x, y, zを受け取り「x時のyはz」という文字列を返す関数を実装せよ．さらに，x=12, y=”気温”, z=22.4として，実行結果を確認せよ"
   ]
  },
  {
   "cell_type": "code",
   "execution_count": 9,
   "id": "e5d8a126",
   "metadata": {},
   "outputs": [
    {
     "data": {
      "text/plain": [
       "'12時の気温は22.4'"
      ]
     },
     "execution_count": 9,
     "metadata": {},
     "output_type": "execute_result"
    }
   ],
   "source": [
    "def make_sentence(x, y, z):\n",
    "    return f\"{x}時の{y}は{z}\"\n",
    "\n",
    "\n",
    "make_sentence(x=12, y=\"気温\", z=22.4)"
   ]
  },
  {
   "cell_type": "markdown",
   "id": "4f336978",
   "metadata": {},
   "source": [
    "## 08. 暗号文\n",
    "与えられた文字列の各文字を，以下の仕様で変換する関数cipherを実装せよ．\n",
    "\n",
    "- 英小文字ならば(219 - 文字コード)の文字に置換\n",
    "- その他の文字はそのまま出力\n",
    "この関数を用い，英語のメッセージを暗号化・復号化せよ．"
   ]
  },
  {
   "cell_type": "code",
   "execution_count": 10,
   "id": "fd9a7aa8",
   "metadata": {},
   "outputs": [
    {
     "name": "stdout",
     "output_type": "stream",
     "text": [
      "kziztizks\n",
      "PziztRzks\n",
      "paragraph\n",
      "ParagRaph\n"
     ]
    }
   ],
   "source": [
    "def cipher(text):\n",
    "    new_text = \"\"\n",
    "    for char in text:\n",
    "        if char.islower():\n",
    "            new_text += chr(219 - ord(char))\n",
    "        else:\n",
    "            new_text += char\n",
    "    return new_text\n",
    "\n",
    "\n",
    "print(cipher(\"paragraph\"))\n",
    "print(cipher(\"ParagRaph\"))\n",
    "\n",
    "print(cipher(cipher(\"paragraph\")))\n",
    "print(cipher(cipher(\"ParagRaph\")))"
   ]
  },
  {
   "cell_type": "markdown",
   "id": "67ecc06d",
   "metadata": {},
   "source": [
    "## 09. Typoglycemia\n",
    "スペースで区切られた単語列に対して，各単語の先頭と末尾の文字は残し，それ以外の文字の順序をランダムに並び替えるプログラムを作成せよ．ただし，長さが４以下の単語は並び替えないこととする．適当な英語の文（例えば”I couldn’t believe that I could actually understand what I was reading : the phenomenal power of the human mind .”）を与え，その実行結果を確認せよ．"
   ]
  },
  {
   "cell_type": "code",
   "execution_count": 11,
   "id": "55979dd4",
   "metadata": {},
   "outputs": [],
   "source": [
    "import random"
   ]
  },
  {
   "cell_type": "code",
   "execution_count": 12,
   "id": "88ae3a3d",
   "metadata": {},
   "outputs": [
    {
     "data": {
      "text/plain": [
       "'I c’loundt bveilee that I cluod atcllauy usnntedrad what I was radeing : the peehanmonl pweor of the hamun mind .'"
      ]
     },
     "execution_count": 12,
     "metadata": {},
     "output_type": "execute_result"
    }
   ],
   "source": [
    "def randomize_sentence(sentence):\n",
    "\n",
    "    new_words = []\n",
    "    for word in sentence.split(\" \"):\n",
    "        if len(word) > 4:\n",
    "            new_words.append(\n",
    "                word[0] + \"\".join(random.sample(word[1:-1], len(word[1:-1]))) + word[-1]\n",
    "            )\n",
    "        else:\n",
    "            new_words.append(word)\n",
    "    return \" \".join(new_words)\n",
    "\n",
    "\n",
    "example = \"I couldn’t believe that I could actually understand what I was reading : the phenomenal power of the human mind .\"\n",
    "randomize_sentence(example)"
   ]
  },
  {
   "cell_type": "code",
   "execution_count": null,
   "id": "157e5873",
   "metadata": {},
   "outputs": [],
   "source": []
  }
 ],
 "metadata": {
  "kernelspec": {
   "display_name": "Environment (virtualenv_analytics)",
   "language": "python",
   "name": "virtualenv_analytics"
  },
  "language_info": {
   "codemirror_mode": {
    "name": "ipython",
    "version": 3
   },
   "file_extension": ".py",
   "mimetype": "text/x-python",
   "name": "python",
   "nbconvert_exporter": "python",
   "pygments_lexer": "ipython3",
   "version": "3.8.10"
  }
 },
 "nbformat": 4,
 "nbformat_minor": 5
}
